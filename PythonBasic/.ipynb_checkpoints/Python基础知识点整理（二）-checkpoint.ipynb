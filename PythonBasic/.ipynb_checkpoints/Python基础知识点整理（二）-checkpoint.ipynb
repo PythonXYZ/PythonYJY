{
 "cells": [
  {
   "cell_type": "markdown",
   "metadata": {},
   "source": [
    "## Python基础知识点整理（二）\n",
    "\n",
    "* 你好，基础知识点整理系列参照了一般市面上的Python教学资料，为帮助编程经验较少的朋友尽快入门特此整理。\n",
    "* 由于只是知识点整理，没有过多的讲解，有疑问的请在公众号“学徒艾伦鸠”中留言。\n",
    "* 能力有限，部分名词没有找到合适中文翻译，因此保留成英文，还请谅解。\n",
    "* 欢迎大家指正交流。"
   ]
  },
  {
   "cell_type": "markdown",
   "metadata": {},
   "source": [
    "## if, elif, else 条件语句\n",
    "* 其功能和excel中if函数类似，对一个条件进行判定，如果满足这个条件执行某种操作，如果不满足执行另一个操作\n",
    "* elif表示else if，如果前一个条件没有被满足，那么再检验下一个条件\n",
    "* 条件语句中至少要有if和else, 有时只有当一个条件被满足时，我们才执行某种操作，这时，对于所有不满足条件的情况，我们用pass来表示什么都不做。"
   ]
  },
  {
   "cell_type": "code",
   "execution_count": 1,
   "metadata": {},
   "outputs": [],
   "source": [
    "x = 1\n",
    "y = 2"
   ]
  },
  {
   "cell_type": "code",
   "execution_count": 2,
   "metadata": {},
   "outputs": [
    {
     "name": "stdout",
     "output_type": "stream",
     "text": [
      "y is larger\n"
     ]
    }
   ],
   "source": [
    "if x < y:\n",
    "    print(\"y is larger\")\n",
    "elif x > y:\n",
    "    print(\"x is larger\")\n",
    "else:\n",
    "    print(\"x equals to y\")"
   ]
  },
  {
   "cell_type": "code",
   "execution_count": 4,
   "metadata": {},
   "outputs": [],
   "source": [
    "x = 3\n",
    "y = 2"
   ]
  },
  {
   "cell_type": "code",
   "execution_count": 5,
   "metadata": {},
   "outputs": [
    {
     "name": "stdout",
     "output_type": "stream",
     "text": [
      "x is larger\n"
     ]
    }
   ],
   "source": [
    "if x < y:\n",
    "    print(\"y is larger\")\n",
    "elif x > y:\n",
    "    print(\"x is larger\")\n",
    "elif x == y:\n",
    "    print(\"x equals to y\")\n",
    "else:\n",
    "    print(\"You should never be here.\")"
   ]
  },
  {
   "cell_type": "code",
   "execution_count": 6,
   "metadata": {},
   "outputs": [
    {
     "name": "stdout",
     "output_type": "stream",
     "text": [
      "x和y的乘积大于4\n"
     ]
    }
   ],
   "source": [
    "if x*y > 4:\n",
    "    print(\"x和y的乘积大于4\")\n",
    "else:\n",
    "    pass"
   ]
  },
  {
   "cell_type": "markdown",
   "metadata": {},
   "source": [
    "## for 循环\n",
    "* for循环最常用的场景是iteration（重复迭代）时，比如下面的例子，我们需要返回一列数中所有能被2整除的数字。\n",
    "* for循环适合处理重复次数较少的情况，重复次数较多时，我们可以采用map()，会在本期的实战小贴士环节分享。"
   ]
  },
  {
   "cell_type": "code",
   "execution_count": 7,
   "metadata": {},
   "outputs": [],
   "source": [
    "num_list = [1, 2, 3, 4, 5, 6]"
   ]
  },
  {
   "cell_type": "code",
   "execution_count": 8,
   "metadata": {},
   "outputs": [
    {
     "name": "stdout",
     "output_type": "stream",
     "text": [
      "2\n",
      "4\n",
      "6\n"
     ]
    }
   ],
   "source": [
    "for num in num_list:    #这里的num是自定义的，只要满足python对象命名规范就可以，你可以叫它number, no, i, item等等。\n",
    "    result = num % 2\n",
    "    if result == 0:\n",
    "        print(num)\n",
    "    else:\n",
    "        pass"
   ]
  },
  {
   "cell_type": "markdown",
   "metadata": {},
   "source": [
    "## while 循环\n",
    "* while循环使用时需要谨慎，“当”一个条件被满足时，便会不断地运行循环内的程序，这会持续占用我们的机器上的资源。\n",
    "* 一般while循环可以用于寻找bug或其他特定值。\n",
    "* 合理运用break可以有效避免程序被无限运行, break帮助我们终止循环。\n",
    "* 合理运用continue可以帮助我们在特定情况下提前结束当前循环，并进入下一个循环。"
   ]
  },
  {
   "cell_type": "code",
   "execution_count": 9,
   "metadata": {},
   "outputs": [
    {
     "name": "stdout",
     "output_type": "stream",
     "text": [
      "10\n"
     ]
    }
   ],
   "source": [
    "i = 1\n",
    "while True:\n",
    "    if i < 10:\n",
    "        i += 1 #递增1\n",
    "    else:\n",
    "        print(i)\n",
    "        break"
   ]
  },
  {
   "cell_type": "code",
   "execution_count": 11,
   "metadata": {
    "scrolled": false
   },
   "outputs": [
    {
     "name": "stdout",
     "output_type": "stream",
     "text": [
      "好戏开场了！\n",
      "这是我拿到的第1个人头。\n",
      "这是我拿到的第2个人头。\n",
      "这是我拿到的第3个人头。\n",
      "这是我拿到的第4个人头。\n",
      "这是我拿到的第5个人头。\n",
      "这是我拿到的第6个人头。\n",
      "这是我拿到的第7个人头。\n",
      "这是我拿到的第8个人头。\n",
      "这是我拿到的第9个人头。\n",
      "第10个人头了，庆祝一下！\n",
      "这是我拿到的第11个人头。\n",
      "这是我拿到的第12个人头。\n",
      "这是我拿到的第13个人头。\n",
      "这是我拿到的第14个人头。\n",
      "这是我拿到的第15个人头。\n",
      "这是我拿到的第16个人头。\n",
      "这是我拿到的第17个人头。\n",
      "这是我拿到的第18个人头。\n",
      "这是我拿到的第19个人头。\n",
      "这是我拿到的第20个人头。\n",
      "这是我拿到的第21个人头。\n",
      "这是我拿到的第22个人头。\n",
      "这是我拿到的第23个人头。\n",
      "这是我拿到的第24个人头。\n",
      "这是我拿到的第25个人头。\n",
      "这是我拿到的第26个人头。\n",
      "这是我拿到的第27个人头。\n",
      "这是我拿到的第28个人头。\n",
      "这是我拿到的第29个人头。\n",
      "这是我拿到的第30个人头。\n",
      "实现30人头目标了！\n"
     ]
    }
   ],
   "source": [
    "i = 0\n",
    "print('好戏开场了！')\n",
    "while True:\n",
    "    i += 1\n",
    "    if i == 10:\n",
    "        print(f'第10个人头了，庆祝一下！')\n",
    "        continue\n",
    "    else:\n",
    "        print(f'这是我拿到的第{i}个人头。')\n",
    "    \n",
    "    if i == 30:\n",
    "        print(f'实现{i}人头目标了！')\n",
    "        break"
   ]
  },
  {
   "cell_type": "markdown",
   "metadata": {},
   "source": [
    "# 就这么短，谢谢大家！"
   ]
  }
 ],
 "metadata": {
  "kernelspec": {
   "display_name": "Python 3",
   "language": "python",
   "name": "python3"
  },
  "language_info": {
   "codemirror_mode": {
    "name": "ipython",
    "version": 3
   },
   "file_extension": ".py",
   "mimetype": "text/x-python",
   "name": "python",
   "nbconvert_exporter": "python",
   "pygments_lexer": "ipython3",
   "version": "3.6.5"
  }
 },
 "nbformat": 4,
 "nbformat_minor": 1
}
