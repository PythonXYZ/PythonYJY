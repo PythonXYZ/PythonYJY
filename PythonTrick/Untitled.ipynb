{
 "cells": [
  {
   "cell_type": "code",
   "execution_count": 8,
   "metadata": {},
   "outputs": [],
   "source": [
    "import time, numpy as np"
   ]
  },
  {
   "cell_type": "code",
   "execution_count": 5,
   "metadata": {},
   "outputs": [],
   "source": [
    "num_list = list(np.arange(0, 100, 1))\n",
    "result_list = []"
   ]
  },
  {
   "cell_type": "code",
   "execution_count": 13,
   "metadata": {},
   "outputs": [
    {
     "name": "stdout",
     "output_type": "stream",
     "text": [
      "0.00018024444580078125\n"
     ]
    }
   ],
   "source": [
    "start = time.time()\n",
    "\n",
    "for item in num_list:\n",
    "    if item%2 == 0:\n",
    "        result_list.append(item)\n",
    "    else:\n",
    "        result_list.append(item + 1)\n",
    "\n",
    "end = time.time()\n",
    "\n",
    "print(end - start)"
   ]
  },
  {
   "cell_type": "code",
   "execution_count": 12,
   "metadata": {},
   "outputs": [
    {
     "name": "stdout",
     "output_type": "stream",
     "text": [
      "0.0007910728454589844\n"
     ]
    }
   ],
   "source": [
    "start = time.time()\n",
    "\n",
    "result_list = []\n",
    "\n",
    "def new_function(item):\n",
    "    if item%2 == 0:\n",
    "        result_list.append(item)\n",
    "    else:\n",
    "        result_list.append(item + 1)\n",
    "        \n",
    "x = map(new_function, num_list)\n",
    "\n",
    "end = time.time()\n",
    "\n",
    "print(end - start)"
   ]
  }
 ],
 "metadata": {
  "kernelspec": {
   "display_name": "Python 3",
   "language": "python",
   "name": "python3"
  },
  "language_info": {
   "codemirror_mode": {
    "name": "ipython",
    "version": 3
   },
   "file_extension": ".py",
   "mimetype": "text/x-python",
   "name": "python",
   "nbconvert_exporter": "python",
   "pygments_lexer": "ipython3",
   "version": "3.6.5"
  }
 },
 "nbformat": 4,
 "nbformat_minor": 2
}
