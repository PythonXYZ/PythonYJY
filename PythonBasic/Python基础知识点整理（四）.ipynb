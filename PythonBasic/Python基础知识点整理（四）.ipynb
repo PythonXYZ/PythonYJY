{
 "cells": [
  {
   "cell_type": "markdown",
   "metadata": {},
   "source": [
    "## Python基础知识点整理（四）\n",
    "\n",
    "* 你好，基础知识点整理系列参照了一般市面上的Python教学资料，为帮助编程经验较少的朋友尽快入门特此整理。\n",
    "* 由于只是知识点整理，没有过多的讲解，有疑问的请在公众号“学徒艾伦鸠”中留言。\n",
    "* 能力有限，部分名词没有找到合适中文翻译，因此保留成英文，还请谅解。\n",
    "* 欢迎大家指正交流。"
   ]
  },
  {
   "cell_type": "markdown",
   "metadata": {},
   "source": [
    "### String 字符串"
   ]
  },
  {
   "cell_type": "markdown",
   "metadata": {},
   "source": [
    "#### 首先我们来构建一个字符串"
   ]
  },
  {
   "cell_type": "code",
   "execution_count": 1,
   "metadata": {},
   "outputs": [
    {
     "data": {
      "text/plain": [
       "'I love Python! Do You?'"
      ]
     },
     "execution_count": 1,
     "metadata": {},
     "output_type": "execute_result"
    }
   ],
   "source": [
    "string = 'I love Python! Do You?'\n",
    "string"
   ]
  },
  {
   "cell_type": "markdown",
   "metadata": {},
   "source": [
    "#### 返回字符串的长度，即从开始引号到结束引号之间不包括引号在内的字符的个数。\n",
    "* 数字、字母、特殊符号、空格都是字符"
   ]
  },
  {
   "cell_type": "code",
   "execution_count": 2,
   "metadata": {},
   "outputs": [
    {
     "data": {
      "text/plain": [
       "22"
      ]
     },
     "execution_count": 2,
     "metadata": {},
     "output_type": "execute_result"
    }
   ],
   "source": [
    "len(string)"
   ]
  },
  {
   "cell_type": "markdown",
   "metadata": {},
   "source": [
    "#### 将所有字符转换成小写字母"
   ]
  },
  {
   "cell_type": "code",
   "execution_count": 3,
   "metadata": {},
   "outputs": [
    {
     "data": {
      "text/plain": [
       "'i love python! do you?'"
      ]
     },
     "execution_count": 3,
     "metadata": {},
     "output_type": "execute_result"
    }
   ],
   "source": [
    "lower_str = string.lower()\n",
    "lower_str"
   ]
  },
  {
   "cell_type": "markdown",
   "metadata": {},
   "source": [
    "#### 将所有字符转换成大写字母"
   ]
  },
  {
   "cell_type": "code",
   "execution_count": 4,
   "metadata": {},
   "outputs": [
    {
     "data": {
      "text/plain": [
       "'I LOVE PYTHON! DO YOU?'"
      ]
     },
     "execution_count": 4,
     "metadata": {},
     "output_type": "execute_result"
    }
   ],
   "source": [
    "upper_str = string.upper()\n",
    "upper_str"
   ]
  },
  {
   "cell_type": "markdown",
   "metadata": {},
   "source": [
    "#### 用另一个字符或字符串代替原字符中的某一种字符\n",
    "* 下文案例中被代替的是空格"
   ]
  },
  {
   "cell_type": "code",
   "execution_count": 5,
   "metadata": {},
   "outputs": [
    {
     "data": {
      "text/plain": [
       "'I嘿嘿love嘿嘿Python!嘿嘿Do嘿嘿You?'"
      ]
     },
     "execution_count": 5,
     "metadata": {},
     "output_type": "execute_result"
    }
   ],
   "source": [
    "nonspace_str = string.replace(\" \", \"嘿嘿\")\n",
    "nonspace_str"
   ]
  },
  {
   "cell_type": "markdown",
   "metadata": {},
   "source": [
    "#### 只去掉开头或者结尾的空格\n",
    "* 我们也可以在.strip()中加入特定的字符值，如.strip(',')，这样被去掉的就是开头或者结尾的逗号。"
   ]
  },
  {
   "cell_type": "code",
   "execution_count": 6,
   "metadata": {},
   "outputs": [
    {
     "data": {
      "text/plain": [
       "'I love Python! Do You?'"
      ]
     },
     "execution_count": 6,
     "metadata": {},
     "output_type": "execute_result"
    }
   ],
   "source": [
    "nstring = ' I love Python! Do You? '\n",
    "strip_nstring = nstring.strip()\n",
    "strip_nstring"
   ]
  },
  {
   "cell_type": "markdown",
   "metadata": {},
   "source": [
    "#### 只去掉开头的空格\n",
    "* 我们也可以在.lstrip()中加入特定的字符值，如.lstrip(',')，这样被去掉的就是开头的逗号。"
   ]
  },
  {
   "cell_type": "code",
   "execution_count": 7,
   "metadata": {},
   "outputs": [
    {
     "data": {
      "text/plain": [
       "'I love Python! Do You? '"
      ]
     },
     "execution_count": 7,
     "metadata": {},
     "output_type": "execute_result"
    }
   ],
   "source": [
    "nstring = ' I love Python! Do You? '\n",
    "strip_nstring = nstring.lstrip()\n",
    "strip_nstring"
   ]
  },
  {
   "cell_type": "markdown",
   "metadata": {},
   "source": [
    "#### 只去掉结尾的空格\n",
    "* 我们也可以在.rstrip()中加入特定的字符值，如.rstrip(',')，这样被去掉的就是结尾的逗号。"
   ]
  },
  {
   "cell_type": "code",
   "execution_count": 8,
   "metadata": {},
   "outputs": [
    {
     "data": {
      "text/plain": [
       "' I love Python! Do You?'"
      ]
     },
     "execution_count": 8,
     "metadata": {},
     "output_type": "execute_result"
    }
   ],
   "source": [
    "nstring = ' I love Python! Do You? '\n",
    "strip_nstring = nstring.rstrip()\n",
    "strip_nstring"
   ]
  },
  {
   "cell_type": "markdown",
   "metadata": {},
   "source": [
    "#### 将字符串按照特定的字符分割，并返回成一个list"
   ]
  },
  {
   "cell_type": "code",
   "execution_count": 9,
   "metadata": {},
   "outputs": [
    {
     "data": {
      "text/plain": [
       "['I', 'love', 'Python!', 'Do', 'You?']"
      ]
     },
     "execution_count": 9,
     "metadata": {},
     "output_type": "execute_result"
    }
   ],
   "source": [
    "split_str = string.split(\" \")\n",
    "split_str"
   ]
  },
  {
   "cell_type": "markdown",
   "metadata": {},
   "source": [
    "#### 将字符串连接"
   ]
  },
  {
   "cell_type": "code",
   "execution_count": 10,
   "metadata": {},
   "outputs": [
    {
     "data": {
      "text/plain": [
       "'飞流直下三千尺，疑是银河落九天！'"
      ]
     },
     "execution_count": 10,
     "metadata": {},
     "output_type": "execute_result"
    }
   ],
   "source": [
    "string1 = '飞流直下三千尺，'\n",
    "string2 = '疑是银河落九天！'\n",
    "string1 + string2"
   ]
  },
  {
   "cell_type": "markdown",
   "metadata": {},
   "source": [
    "#### 算出我最近最喜欢的一段rap当中出现了多少次for"
   ]
  },
  {
   "cell_type": "code",
   "execution_count": 11,
   "metadata": {},
   "outputs": [
    {
     "data": {
      "text/plain": [
       "7"
      ]
     },
     "execution_count": 11,
     "metadata": {},
     "output_type": "execute_result"
    }
   ],
   "source": [
    "origin_string = \"\"\"\n",
    "The C is for the courage I possess through the trauma,\n",
    "H is for the hurt but it's all for the honor,\n",
    "A is for my attitude working through the patience,\n",
    "Money comes and goes so the M is for motivation,\n",
    "Gotta stay consistent the P is for persevere,\n",
    "The I is for integrity innovative career,\n",
    "The O is optimistic open and never shut,\n",
    "And the N is necessary 'cause I'm never givin' up!\n",
    "\"\"\"\n",
    "target_string = 'for'\n",
    "origin_string.count(target_string)"
   ]
  },
  {
   "cell_type": "markdown",
   "metadata": {},
   "source": [
    "#### 将保存成list的一些字符串或者字符，利用某种字符串或者字符连接\n",
    "* 下面例子中是不用任何字符串或字符连接，直接按顺序连接所有字符串或字符"
   ]
  },
  {
   "cell_type": "code",
   "execution_count": 12,
   "metadata": {},
   "outputs": [
    {
     "data": {
      "text/plain": [
       "'Data scientist'"
      ]
     },
     "execution_count": 12,
     "metadata": {},
     "output_type": "execute_result"
    }
   ],
   "source": [
    "character_list = ['D','a','t','a',' ', 's', 'c', 'i', 'e', 'n', 't', 'i', 's', 't']\n",
    "''.join(character_list)"
   ]
  },
  {
   "cell_type": "markdown",
   "metadata": {},
   "source": [
    "# 就这么短，谢谢大家！"
   ]
  }
 ],
 "metadata": {
  "kernelspec": {
   "display_name": "Python 3",
   "language": "python",
   "name": "python3"
  },
  "language_info": {
   "codemirror_mode": {
    "name": "ipython",
    "version": 3
   },
   "file_extension": ".py",
   "mimetype": "text/x-python",
   "name": "python",
   "nbconvert_exporter": "python",
   "pygments_lexer": "ipython3",
   "version": "3.6.5"
  }
 },
 "nbformat": 4,
 "nbformat_minor": 1
}
