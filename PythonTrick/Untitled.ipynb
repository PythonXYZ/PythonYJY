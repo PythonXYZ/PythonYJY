{
 "cells": [
  {
   "cell_type": "code",
   "execution_count": null,
   "metadata": {},
   "outputs": [],
   "source": [
    "from lxml.html import parse\n",
    "from urllib.request import urlopen"
   ]
  },
  {
   "cell_type": "code",
   "execution_count": null,
   "metadata": {},
   "outputs": [],
   "source": [
    "urlopen()"
   ]
  },
  {
   "cell_type": "code",
   "execution_count": null,
   "metadata": {},
   "outputs": [],
   "source": [
    "doc = parse(urlopen('https://www.basketball-reference.com/players/a/'))"
   ]
  },
  {
   "cell_type": "code",
   "execution_count": null,
   "metadata": {},
   "outputs": [],
   "source": [
    "type(doc)"
   ]
  },
  {
   "cell_type": "code",
   "execution_count": null,
   "metadata": {},
   "outputs": [],
   "source": [
    "tables = doc.xpath('//table')"
   ]
  },
  {
   "cell_type": "code",
   "execution_count": null,
   "metadata": {},
   "outputs": [],
   "source": [
    "def _unpack(row):\n",
    "\n",
    "    player_name = row.xpath('.//th')\n",
    "    elts = row.xpath('.//td')\n",
    "    \n",
    "    player_name = [val.text_content() for val in player_name]\n",
    "    elts = [val.text_content() for val in elts]\n",
    "    \n",
    "    row = player_name + elts\n",
    "\n",
    "    return row"
   ]
  },
  {
   "cell_type": "code",
   "execution_count": null,
   "metadata": {},
   "outputs": [],
   "source": [
    "from pandas.io.parsers import TextParser\n",
    "\n",
    "def parse_options_data(table):\n",
    "\n",
    "    rows = table.xpath('.//tr')\n",
    "\n",
    "    header = _unpack(rows[0])\n",
    "\n",
    "    data = [_unpack(r) for r in rows[1:]]\n",
    "\n",
    "\n",
    "    return TextParser(data, names=header).get_chunk()"
   ]
  },
  {
   "cell_type": "code",
   "execution_count": null,
   "metadata": {},
   "outputs": [],
   "source": [
    "content = parse_options_data(tables[0])"
   ]
  },
  {
   "cell_type": "code",
   "execution_count": null,
   "metadata": {
    "scrolled": true
   },
   "outputs": [],
   "source": [
    "content"
   ]
  },
  {
   "cell_type": "code",
   "execution_count": 1,
   "metadata": {},
   "outputs": [],
   "source": []
  },
  {
   "cell_type": "code",
   "execution_count": 6,
   "metadata": {},
   "outputs": [
    {
     "name": "stdout",
     "output_type": "stream",
     "text": [
      "63.718565940856934\n",
      "0.003198385238647461\n"
     ]
    }
   ],
   "source": [
    "import subprocess, time\n",
    "\n",
    "start1 = time.time()\n",
    "subprocess.call(['Python', 'PandasOutput.py'])\n",
    "end1 = time.time()\n",
    "print(end1 - start1)\n",
    "\n",
    "start2 = time.time()\n",
    "subprocess.Popen(['Python', 'PandasOutput.py'])\n",
    "end2 = time.time()\n",
    "print(end2 - start2)"
   ]
  }
 ],
 "metadata": {
  "kernelspec": {
   "display_name": "Python 3",
   "language": "python",
   "name": "python3"
  },
  "language_info": {
   "codemirror_mode": {
    "name": "ipython",
    "version": 3
   },
   "file_extension": ".py",
   "mimetype": "text/x-python",
   "name": "python",
   "nbconvert_exporter": "python",
   "pygments_lexer": "ipython3",
   "version": "3.6.5"
  }
 },
 "nbformat": 4,
 "nbformat_minor": 2
}
